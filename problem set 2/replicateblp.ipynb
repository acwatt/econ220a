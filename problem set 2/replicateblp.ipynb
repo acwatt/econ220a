{
 "cells": [
  {
   "cell_type": "markdown",
   "metadata": {},
   "source": [
    "---\n",
    "title       : \"Assignment: reproducing Berry, Levinsohn, & Pakes (1995)\"\n",
    "subtitle    : \n",
    "author      : Paul Schrimpf\n",
    "date        : `j using Dates; print(Dates.today())`\n",
    "bibliography: \"blp.bib\"\n",
    "link-citations: true\n",
    "options:\n",
    "      out_width : 100%\n",
    "      wrap : true\n",
    "      fig_width : 800\n",
    "      dpi : 192\n",
    "---\n",
    "\n",
    "[![](https://i.creativecommons.org/l/by-sa/4.0/88x31.png)](http://creativecommons.org/licenses/by-sa/4.0/)\n",
    "\n",
    "This work is licensed under a [Creative Commons Attribution-ShareAlike\n",
    "4.0 International\n",
    "License](http://creativecommons.org/licenses/by-sa/4.0/) \n",
    "\n",
    "### About this document\n",
    "\n",
    "This document was created using Weave.jl. The code is available in\n",
    "[on github](https://github.com/UBCECON567/BLPDemand.jl). The same\n",
    "document generates both static webpages and a [jupyter\n",
    "notebook.](replicateblp.ipynb)\n",
    "\n",
    "# Introduction\n",
    "\n",
    "This assigment will attempt to replicate the results of [@berry1995].\n",
    "\n",
    "# Getting started\n",
    "\n",
    "Load the package for this assignment from github."
   ]
  },
  {
   "cell_type": "code",
   "execution_count": 5,
   "metadata": {},
   "outputs": [
    {
     "name": "stderr",
     "output_type": "stream",
     "text": [
      "┌ Info: Precompiling BLPDemand [c9742c04-3141-4011-ba40-1120baaac28c]\n",
      "└ @ Base loading.jl:1423\n"
     ]
    }
   ],
   "source": [
    "using Pkg\n",
    "#Pkg.activate(\".\") # If running on  vse.syzygy.ca, you might need to uncomment this command\n",
    "\n",
    "try\n",
    "  using BLPDemand\n",
    "catch\n",
    "  Pkg.develop(PackageSpec(url=\"https://github.com/UBCECON567/BLPDemand.jl\"))\n",
    "  using BLPDemand\n",
    "end"
   ]
  },
  {
   "cell_type": "markdown",
   "metadata": {},
   "source": [
    "# Problem 1: load and explore the data\n",
    "\n",
    "The data from [@berry1995] is included in the `BLPDemand.jl`\n",
    "package."
   ]
  },
  {
   "cell_type": "code",
   "execution_count": 21,
   "metadata": {},
   "outputs": [
    {
     "data": {
      "text/plain": [
       "19-element Vector{String}:\n",
       " \"model_id\"\n",
       " \"car_id\"\n",
       " \"firm_id\"\n",
       " \"price\"\n",
       " \"domestic\"\n",
       " \"japan\"\n",
       " \"european\"\n",
       " \"const\"\n",
       " \"hpwt\"\n",
       " \"air\"\n",
       " \"mpd\"\n",
       " \"space\"\n",
       " \"mpg\"\n",
       " \"trend\"\n",
       " \"year\"\n",
       " \"share\"\n",
       " \"quantity\"\n",
       " \"logit_depvar\"\n",
       " \"Column19\""
      ]
     },
     "execution_count": 21,
     "metadata": {},
     "output_type": "execute_result"
    }
   ],
   "source": [
    "# csvfile=normpath(joinpath(dirname(Base.pathof(BLPDemand)),\"..\",\"data\",\"blp_1999_data.csv\"))\n",
    "using CSV\n",
    "df = CSV.read(\"blp_1999_data.csv\", DataFrame)\n",
    "names(df)"
   ]
  },
  {
   "cell_type": "code",
   "execution_count": 6,
   "metadata": {},
   "outputs": [
    {
     "ename": "LoadError",
     "evalue": "ArgumentError: provide a valid sink argument, like `using DataFrames; CSV.read(source, DataFrame)`",
     "output_type": "error",
     "traceback": [
      "ArgumentError: provide a valid sink argument, like `using DataFrames; CSV.read(source, DataFrame)`",
      "",
      "Stacktrace:",
      " [1] read(source::String, sink::Nothing; copycols::Bool, kwargs::Base.Pairs{Symbol, Union{}, Tuple{}, NamedTuple{(), Tuple{}}})",
      "   @ CSV ~/.julia/packages/CSV/jFiCn/src/CSV.jl:89",
      " [2] read(source::String, sink::Nothing) (repeats 2 times)",
      "   @ CSV ~/.julia/packages/CSV/jFiCn/src/CSV.jl:88",
      " [3] data_blp1999()",
      "   @ BLPDemand ~/.julia/dev/BLPDemand/src/data.jl:133",
      " [4] top-level scope",
      "   @ In[6]:1",
      " [5] eval",
      "   @ ./boot.jl:373 [inlined]",
      " [6] include_string(mapexpr::typeof(REPL.softscope), mod::Module, code::String, filename::String)",
      "   @ Base ./loading.jl:1196"
     ]
    }
   ],
   "source": [
    "df = data_blp1999()\n",
    "\n",
    "# Optionally, if you like being able to view all your data\n",
    "if (false)\n",
    "  using TableView\n",
    "  if (notusingjupyterorjuno) # this will throw an error. Delete it  or the else branch \n",
    "    using Blink\n",
    "    w = Blink.window()\n",
    "    body!(w, TableView.showtable(df));\n",
    "  else  # this may work on a local installation of jupyter, but it doesn't on vse.syzygy.ca ...\n",
    "    TableView.showtable(df);\n",
    "  end\n",
    "end"
   ]
  },
  {
   "cell_type": "markdown",
   "metadata": {},
   "source": [
    "Create some tables and figures to explore the data. You may want to\n",
    "reproduce table I and/or II from [@berry1995]."
   ]
  },
  {
   "cell_type": "code",
   "execution_count": 3,
   "metadata": {},
   "outputs": [],
   "source": [
    "# using Plots, DataFramesMeta, StatsPlots # (or whatever)"
   ]
  },
  {
   "cell_type": "markdown",
   "metadata": {},
   "source": [
    "# Problem 2: Logit Demand\n",
    "\n",
    "## Part I\n",
    "Reproduce table III of [@berry1995]. First you'll need to create\n",
    "instruments as in section 5.1 of the paper. The following code should\n",
    "do it."
   ]
  },
  {
   "cell_type": "code",
   "execution_count": 3,
   "metadata": {},
   "outputs": [
    {
     "name": "stderr",
     "output_type": "stream",
     "text": [
      "┌ Info: Precompiling DataFrames [a93c6f00-e57d-5684-b7b6-d8193f3e46c0]\n",
      "└ @ Base loading.jl:1423\n"
     ]
    },
    {
     "ename": "LoadError",
     "evalue": "UndefVarError: df not defined",
     "output_type": "error",
     "traceback": [
      "UndefVarError: df not defined",
      "",
      "Stacktrace:",
      " [1] top-level scope",
      "   @ In[3]:19",
      " [2] eval",
      "   @ ./boot.jl:373 [inlined]",
      " [3] include_string(mapexpr::typeof(REPL.softscope), mod::Module, code::String, filename::String)",
      "   @ Base ./loading.jl:1196"
     ]
    }
   ],
   "source": [
    "using DataFrames\n",
    "# Create instruments (see section 5.1)\n",
    "exog = [:const, :hpwt, :air, :mpd, :space, :mpg, :trend] # not sure that this is correct set of variables\n",
    "function makeinstruments(df, exog)\n",
    "  for z ∈ exog\n",
    "    zown = String(z).*\"_own\"\n",
    "    zother = String(z).*\"_other\"\n",
    "    own=by(df, [:year, :firm_id], z=>sum)\n",
    "    rename!(own, Symbol(z, \"_sum\") => Symbol(z, \"_own\"))\n",
    "    all=by(df, [:year], z=>sum)\n",
    "    rename!(all, Symbol(z, \"_sum\") => Symbol(z, \"_other\"))\n",
    "    df=join(df, own, on = [:year, :firm_id])\n",
    "    df=join(df,all, on = [:year])\n",
    "    df[!,Symbol(z,\"_other\")] .-= df[!,Symbol(z,\"_own\")]\n",
    "    df[!,Symbol(z,\"_own\")] .-= df[!,z]\n",
    "  end\n",
    "  return(df)\n",
    "end\n",
    "df=makeinstruments(df, exog);\n",
    "nothing"
   ]
  },
  {
   "cell_type": "markdown",
   "metadata": {},
   "source": [
    "For the regressions, you should modify the following."
   ]
  },
  {
   "cell_type": "code",
   "execution_count": 4,
   "metadata": {},
   "outputs": [
    {
     "name": "stderr",
     "output_type": "stream",
     "text": [
      "┌ Info: Precompiling FixedEffectModels [9d5cd8c9-2029-5cab-9928-427838db53e3]\n",
      "└ @ Base loading.jl:1423\n",
      "┌ Info: Precompiling RegressionTables [d519eb52-b820-54da-95a6-98e1306fdade]\n",
      "└ @ Base loading.jl:1423\n"
     ]
    },
    {
     "ename": "LoadError",
     "evalue": "UndefVarError: df not defined",
     "output_type": "error",
     "traceback": [
      "UndefVarError: df not defined",
      "",
      "Stacktrace:",
      " [1] top-level scope",
      "   @ In[4]:2",
      " [2] eval",
      "   @ ./boot.jl:373 [inlined]",
      " [3] include_string(mapexpr::typeof(REPL.softscope), mod::Module, code::String, filename::String)",
      "   @ Base ./loading.jl:1196"
     ]
    }
   ],
   "source": [
    "using FixedEffectModels, RegressionTables\n",
    "col2 = reg(df, @formula(logit_depvar ~ hpwt + (price ~ const_own + const_other + hpwt_own + hpwt_other)))\n",
    "regtable(col2)"
   ]
  },
  {
   "cell_type": "markdown",
   "metadata": {},
   "source": [
    "## Part II\n",
    "Calculate the elasticities of demand implied by the logit\n",
    "model. Report how many own price elasticities have absolute value less\n",
    "than one (inelastic). Why are inelastic demand estimates undesirable?\n",
    "\n",
    "For computing the elastiticities, you could adapt the code from the\n",
    "[BLPDemand.jl\n",
    "docs](https://ubcecon567.github.io/BLPDemand.jl/dev/simulation/#Calculating-Elasticities-1)"
   ]
  },
  {
   "cell_type": "code",
   "execution_count": null,
   "metadata": {},
   "outputs": [],
   "source": []
  },
  {
   "cell_type": "markdown",
   "metadata": {},
   "source": [
    "# Problem 3: Demand Side Estimation\n",
    "\n",
    "Estimate a random coefficients demand model. Report the parameter\n",
    "estimates and standard errors. Use the functions `estimateRCIVlogit`\n",
    "and `varianceRCIVlogit` from BLPDemand.jl. Note that the paper has\n",
    "price enter the model as $\\log(y-p)$, but we lack data on $y$, so just\n",
    "have price enter linearly or log-linearly with a random coefficient."
   ]
  },
  {
   "cell_type": "code",
   "execution_count": 6,
   "metadata": {},
   "outputs": [],
   "source": [
    "# some more data prep. You might want to change\n",
    "df[!,:loghpwt] = log.(df[!,:hpwt])\n",
    "df[!,:logmpg] = log.(df[!,:mpg])\n",
    "df[!,:logspace] = log.(df[!,:space])\n",
    "S = 20\n",
    "xvars = [:price, :const, :hpwt, :air, :mpd, :space]\n",
    "costvars = [:const, :loghpwt, :air, :logmpg, :logspace]\n",
    "dat = BLPData(df, :year, :firm_id, :share, xvars, costvars,\n",
    "              [:const], [:const], # we'll recreate instruments anyway\n",
    "              randn(length(xvars),S ,length(unique(df[!,:year]))) )\n",
    "dat = makeivblp(dat, includeexp=false)\n",
    "\n",
    "using LinearAlgebra: diag, I\n",
    "# now the estimation, you might want to try different options\n",
    "\n",
    "#out=estimateRCIVlogit(dat, method=:NFXP, verbose=true, W=I)\n",
    "#v = varianceRCIVlogit(out.β, out.σ, dat, W=I)\n",
    "#@show [out.β  out.σ]\n",
    "#@show sqrt.(diag(v.Σ))\n",
    "\n",
    "# or make a nicer table as in https://ubcecon567.github.io/BLPDemand.jl/dev/simulation/#Estimation-1"
   ]
  },
  {
   "cell_type": "markdown",
   "metadata": {},
   "source": [
    "# Problem 4: Demand and Supply\n",
    "\n",
    "Estimate the full BLP model. Use the `estimateBLP` and `varianceBLP`\n",
    "functions. See [the\n",
    "docs](https://ubcecon567.github.io/BLPDemand.jl/dev/simulation/#Estimation-1)\n",
    "for example usage. Note that the paper has price enter the model as\n",
    "$\\log(y-p)$, but we lack data on $y$, so just have price enter\n",
    "linearly or log-linearly with a random coefficient."
   ]
  },
  {
   "cell_type": "code",
   "execution_count": null,
   "metadata": {},
   "outputs": [],
   "source": []
  },
  {
   "cell_type": "markdown",
   "metadata": {},
   "source": [
    "# Problem 5: Elasticities\n",
    "\n",
    "Compute price elasticities (with standard errors) based on your estimates. You can adapt the\n",
    "code in [the\n",
    "docs](https://ubcecon567.github.io/BLPDemand.jl/dev/simulation/#Calculating-Elasticities-1)."
   ]
  },
  {
   "cell_type": "code",
   "execution_count": null,
   "metadata": {},
   "outputs": [],
   "source": []
  },
  {
   "cell_type": "markdown",
   "metadata": {},
   "source": [
    "# Problem 6: Merger Simulation\n",
    "\n",
    "This is a more challenging problem with less guidance. Consider it\n",
    "optional.\n",
    "\n",
    "Use your estimates to simulate a merger between firm 11 (Saab, I\n",
    "think) and firm 19 (GM, I think). You can do this by modifying the\n",
    "`simulateBLP` function. Report the effect of the merger on prices. Be\n",
    "sure to include standard errors."
   ]
  }
 ],
 "metadata": {
  "kernelspec": {
   "display_name": "Julia 1.7.0",
   "language": "julia",
   "name": "julia-1.7"
  },
  "language_info": {
   "file_extension": ".jl",
   "mimetype": "application/julia",
   "name": "julia",
   "version": "1.7.0"
  }
 },
 "nbformat": 4,
 "nbformat_minor": 2
}
