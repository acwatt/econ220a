{
 "cells": [
  {
   "cell_type": "markdown",
   "metadata": {},
   "source": [
    "---\n",
    "title       : \"Assignment: reproducing Berry, Levinsohn, & Pakes (1995)\"\n",
    "subtitle    : \n",
    "author      : Paul Schrimpf\n",
    "date        : `j using Dates; print(Dates.today())`\n",
    "bibliography: \"blp.bib\"\n",
    "link-citations: true\n",
    "options:\n",
    "      out_width : 100%\n",
    "      wrap : true\n",
    "      fig_width : 800\n",
    "      dpi : 192\n",
    "---\n",
    "\n",
    "[![](https://i.creativecommons.org/l/by-sa/4.0/88x31.png)](http://creativecommons.org/licenses/by-sa/4.0/)\n",
    "\n",
    "This work is licensed under a [Creative Commons Attribution-ShareAlike\n",
    "4.0 International\n",
    "License](http://creativecommons.org/licenses/by-sa/4.0/) \n",
    "\n",
    "### About this document\n",
    "\n",
    "This document was created using Weave.jl. The code is available in\n",
    "[on github](https://github.com/UBCECON567/BLPDemand.jl). The same\n",
    "document generates both static webpages and a [jupyter\n",
    "notebook.](replicateblp.ipynb)\n",
    "\n",
    "# Introduction\n",
    "\n",
    "This assigment will attempt to replicate the results of [@berry1995].\n",
    "\n",
    "# Getting started\n",
    "\n",
    "Load the package for this assignment from github."
   ]
  },
  {
   "cell_type": "code",
   "execution_count": 1,
   "metadata": {},
   "outputs": [
    {
     "name": "stderr",
     "output_type": "stream",
     "text": [
      "\u001b[32m\u001b[1m     Cloning\u001b[22m\u001b[39m git-repo `https://github.com/UBCECON567/BLPDemand.jl`\n",
      "\u001b[32m\u001b[1m   Resolving\u001b[22m\u001b[39m package versions...\n",
      "\u001b[32m\u001b[1m   Installed\u001b[22m\u001b[39m MUMPS_seq_jll ────── v5.2.1+4\n",
      "\u001b[32m\u001b[1m   Installed\u001b[22m\u001b[39m NLopt ────────────── v0.6.3\n",
      "\u001b[32m\u001b[1m   Installed\u001b[22m\u001b[39m IJulia ───────────── v1.23.3\n",
      "\u001b[32m\u001b[1m   Installed\u001b[22m\u001b[39m MutableArithmetics ─ v0.2.22\n",
      "\u001b[32m\u001b[1m   Installed\u001b[22m\u001b[39m KNITRO ───────────── v0.10.0\n",
      "\u001b[32m\u001b[1m   Installed\u001b[22m\u001b[39m JuliaFormatter ───── v0.22.10\n",
      "\u001b[32m\u001b[1m   Installed\u001b[22m\u001b[39m DataFrames ───────── v1.3.4\n",
      "\u001b[32m\u001b[1m   Installed\u001b[22m\u001b[39m MathOptInterface ─── v0.9.22\n",
      "\u001b[32m\u001b[1m   Installed\u001b[22m\u001b[39m Ipopt_jll ────────── v3.13.4+2\n",
      "\u001b[32m\u001b[1m   Installed\u001b[22m\u001b[39m StatsModels ──────── v0.6.30\n",
      "\u001b[32m\u001b[1m   Installed\u001b[22m\u001b[39m StatsPlots ───────── v0.14.34\n",
      "\u001b[32m\u001b[1m   Installed\u001b[22m\u001b[39m DynamicPolynomials ─ v0.3.21\n",
      "\u001b[32m\u001b[1m   Installed\u001b[22m\u001b[39m Zygote ───────────── v0.6.40\n",
      "\u001b[32m\u001b[1m   Installed\u001b[22m\u001b[39m Plots ────────────── v1.29.0\n",
      "\u001b[32m\u001b[1m   Installed\u001b[22m\u001b[39m ModelingToolkit ──── v8.11.0\n",
      "\u001b[32m\u001b[1m   Installed\u001b[22m\u001b[39m Latexify ─────────── v0.15.15\n",
      "\u001b[32m\u001b[1m   Installed\u001b[22m\u001b[39m Ipopt ────────────── v0.6.5\n",
      "\u001b[32m\u001b[1m   Installed\u001b[22m\u001b[39m JuMP ─────────────── v0.21.10\n",
      "\u001b[32m\u001b[1m   Installed\u001b[22m\u001b[39m ForwardDiff ──────── v0.10.29\n",
      "\u001b[32m\u001b[1m   Installed\u001b[22m\u001b[39m Optim ────────────── v1.7.0\n",
      "\u001b[32m\u001b[1m   Installed\u001b[22m\u001b[39m CUDA ─────────────── v3.9.1\n",
      "\u001b[32m\u001b[1m    Updating\u001b[22m\u001b[39m `~/.julia/environments/v1.7/Project.toml`\n",
      " \u001b[90m [c9742c04] \u001b[39m\u001b[92m+ BLPDemand v0.1.0 `~/.julia/dev/BLPDemand`\u001b[39m\n",
      " \u001b[90m [052768ef] \u001b[39m\u001b[93m↑ CUDA v3.9.0 ⇒ v3.9.1\u001b[39m\n",
      " \u001b[90m [a93c6f00] \u001b[39m\u001b[93m↑ DataFrames v1.3.2 ⇒ v1.3.4\u001b[39m\n",
      " \u001b[90m [f6369f11] \u001b[39m\u001b[93m↑ ForwardDiff v0.10.28 ⇒ v0.10.29\u001b[39m\n",
      " \u001b[90m [38e38edf] \u001b[39m\u001b[93m↑ GLM v1.6.2 ⇒ v1.7.0\u001b[39m\n",
      " \u001b[90m [7073ff75] \u001b[39m\u001b[93m↑ IJulia v1.23.2 ⇒ v1.23.3\u001b[39m\n",
      " \u001b[90m [4076af6c] \u001b[39m\u001b[95m↓ JuMP v1.0.0 ⇒ v0.21.10\u001b[39m\n",
      " \u001b[90m [98e50ef6] \u001b[39m\u001b[93m↑ JuliaFormatter v0.22.7 ⇒ v0.22.10\u001b[39m\n",
      " \u001b[90m [67920dd8] \u001b[39m\u001b[95m↓ KNITRO v0.12.0 ⇒ v0.10.0\u001b[39m\n",
      " \u001b[90m [23fbe1c1] \u001b[39m\u001b[93m↑ Latexify v0.15.14 ⇒ v0.15.15\u001b[39m\n",
      " \u001b[90m [b8f27783] \u001b[39m\u001b[95m↓ MathOptInterface v1.2.0 ⇒ v0.9.22\u001b[39m\n",
      " \u001b[90m [961ee093] \u001b[39m\u001b[93m↑ ModelingToolkit v8.6.0 ⇒ v8.11.0\u001b[39m\n",
      " \u001b[90m [76087f3c] \u001b[39m\u001b[95m↓ NLopt v0.6.5 ⇒ v0.6.3\u001b[39m\n",
      " \u001b[90m [429524aa] \u001b[39m\u001b[93m↑ Optim v1.6.2 ⇒ v1.7.0\u001b[39m\n",
      " \u001b[90m [91a5bcdd] \u001b[39m\u001b[93m↑ Plots v1.27.5 ⇒ v1.29.0\u001b[39m\n",
      " \u001b[90m [d519eb52] \u001b[39m\u001b[93m↑ RegressionTables v0.5.3 ⇒ v0.5.4\u001b[39m\n",
      " \u001b[90m [3eaba693] \u001b[39m\u001b[93m↑ StatsModels v0.6.29 ⇒ v0.6.30\u001b[39m\n",
      " \u001b[90m [f3b207a7] \u001b[39m\u001b[93m↑ StatsPlots v0.14.33 ⇒ v0.14.34\u001b[39m\n",
      " \u001b[90m [0c5d862f] \u001b[39m\u001b[95m↓ Symbolics v4.4.1 ⇒ v4.3.0\u001b[39m\n",
      " \u001b[90m [e88e6eb3] \u001b[39m\u001b[93m↑ Zygote v0.6.37 ⇒ v0.6.40\u001b[39m\n",
      "\u001b[32m\u001b[1m    Updating\u001b[22m\u001b[39m `~/.julia/environments/v1.7/Manifest.toml`\n",
      " \u001b[90m [c3fe647b] \u001b[39m\u001b[91m- AbstractAlgebra v0.26.0\u001b[39m\n",
      " \u001b[90m [c9742c04] \u001b[39m\u001b[92m+ BLPDemand v0.1.0 `~/.julia/dev/BLPDemand`\u001b[39m\n",
      " \u001b[90m [b99e7846] \u001b[39m\u001b[92m+ BinaryProvider v0.5.10\u001b[39m\n",
      " \u001b[90m [052768ef] \u001b[39m\u001b[93m↑ CUDA v3.9.0 ⇒ v3.9.1\u001b[39m\n",
      " \u001b[90m [a93c6f00] \u001b[39m\u001b[93m↑ DataFrames v1.3.2 ⇒ v1.3.4\u001b[39m\n",
      " \u001b[90m [7c1d4256] \u001b[39m\u001b[95m↓ DynamicPolynomials v0.4.5 ⇒ v0.3.21\u001b[39m\n",
      " \u001b[90m [f6369f11] \u001b[39m\u001b[93m↑ ForwardDiff v0.10.28 ⇒ v0.10.29\u001b[39m\n",
      " \u001b[90m [38e38edf] \u001b[39m\u001b[93m↑ GLM v1.6.2 ⇒ v1.7.0\u001b[39m\n",
      " \u001b[90m [0b43b601] \u001b[39m\u001b[91m- Groebner v0.2.5\u001b[39m\n",
      " \u001b[90m [d5909c97] \u001b[39m\u001b[91m- GroupsCore v0.4.0\u001b[39m\n",
      " \u001b[90m [7073ff75] \u001b[39m\u001b[93m↑ IJulia v1.23.2 ⇒ v1.23.3\u001b[39m\n",
      " \u001b[90m [18e54dd8] \u001b[39m\u001b[91m- IntegerMathUtils v0.1.0\u001b[39m\n",
      " \u001b[90m [b6b21f68] \u001b[39m\u001b[92m+ Ipopt v0.6.5\u001b[39m\n",
      " \u001b[90m [7d188eb4] \u001b[39m\u001b[92m+ JSONSchema v0.3.4\u001b[39m\n",
      " \u001b[90m [4076af6c] \u001b[39m\u001b[95m↓ JuMP v1.0.0 ⇒ v0.21.10\u001b[39m\n",
      " \u001b[90m [98e50ef6] \u001b[39m\u001b[93m↑ JuliaFormatter v0.22.7 ⇒ v0.22.10\u001b[39m\n",
      " \u001b[90m [67920dd8] \u001b[39m\u001b[95m↓ KNITRO v0.12.0 ⇒ v0.10.0\u001b[39m\n",
      " \u001b[90m [23fbe1c1] \u001b[39m\u001b[93m↑ Latexify v0.15.14 ⇒ v0.15.15\u001b[39m\n",
      " \u001b[90m [b8f27783] \u001b[39m\u001b[95m↓ MathOptInterface v1.2.0 ⇒ v0.9.22\u001b[39m\n",
      " \u001b[90m [961ee093] \u001b[39m\u001b[93m↑ ModelingToolkit v8.6.0 ⇒ v8.11.0\u001b[39m\n",
      " \u001b[90m [102ac46a] \u001b[39m\u001b[95m↓ MultivariatePolynomials v0.4.6 ⇒ v0.3.18\u001b[39m\n",
      " \u001b[90m [d8a4904e] \u001b[39m\u001b[95m↓ MutableArithmetics v1.0.0 ⇒ v0.2.22\u001b[39m\n",
      " \u001b[90m [76087f3c] \u001b[39m\u001b[95m↓ NLopt v0.6.5 ⇒ v0.6.3\u001b[39m\n",
      " \u001b[90m [429524aa] \u001b[39m\u001b[93m↑ Optim v1.6.2 ⇒ v1.7.0\u001b[39m\n",
      " \u001b[90m [91a5bcdd] \u001b[39m\u001b[93m↑ Plots v1.27.5 ⇒ v1.29.0\u001b[39m\n",
      " \u001b[90m [27ebfcd6] \u001b[39m\u001b[91m- Primes v0.5.2\u001b[39m\n",
      " \u001b[90m [fb686558] \u001b[39m\u001b[91m- RandomExtensions v0.4.3\u001b[39m\n",
      " \u001b[90m [d519eb52] \u001b[39m\u001b[93m↑ RegressionTables v0.5.3 ⇒ v0.5.4\u001b[39m\n",
      " \u001b[90m [3eaba693] \u001b[39m\u001b[93m↑ StatsModels v0.6.29 ⇒ v0.6.30\u001b[39m\n",
      " \u001b[90m [f3b207a7] \u001b[39m\u001b[93m↑ StatsPlots v0.14.33 ⇒ v0.14.34\u001b[39m\n",
      " \u001b[90m [0c5d862f] \u001b[39m\u001b[95m↓ Symbolics v4.4.1 ⇒ v4.3.0\u001b[39m\n",
      " \u001b[90m [e88e6eb3] \u001b[39m\u001b[93m↑ Zygote v0.6.37 ⇒ v0.6.40\u001b[39m\n",
      " \u001b[90m [ae81ac8f] \u001b[39m\u001b[92m+ ASL_jll v0.1.3+0\u001b[39m\n",
      " \u001b[90m [9cc047cb] \u001b[39m\u001b[92m+ Ipopt_jll v3.13.4+2\u001b[39m\n",
      " \u001b[90m [d00139f3] \u001b[39m\u001b[92m+ METIS_jll v5.1.1+0\u001b[39m\n",
      " \u001b[90m [d7ed1dd3] \u001b[39m\u001b[92m+ MUMPS_seq_jll v5.2.1+4\u001b[39m\n",
      " \u001b[90m [656ef2d0] \u001b[39m\u001b[92m+ OpenBLAS32_jll v0.3.17+0\u001b[39m\n",
      "\u001b[32m\u001b[1m    Building\u001b[22m\u001b[39m KNITRO → `~/.julia/scratchspaces/44cfe95a-1eb2-52ea-b672-e2afdf69b78f/88c9bba20c0834c79476a7f28cedfc8c9931e4db/build.log`\n"
     ]
    },
    {
     "ename": "LoadError",
     "evalue": "Error building `KNITRO`: \nERROR: LoadError: Unable to locate KNITRO installation, please check your environment variable KNITRODIR.\nStacktrace:\n [1] error(s::String)\n   @ Base ./error.jl:33\n [2] top-level scope\n   @ ~/.julia/packages/KNITRO/S3mx8/deps/build.jl:48\n [3] include(fname::String)\n   @ Base.MainInclude ./client.jl:451\n [4] top-level scope\n   @ none:5\nin expression starting at /home/a/.julia/packages/KNITRO/S3mx8/deps/build.jl:45",
     "output_type": "error",
     "traceback": [
      "Error building `KNITRO`: \nERROR: LoadError: Unable to locate KNITRO installation, please check your environment variable KNITRODIR.\nStacktrace:\n [1] error(s::String)\n   @ Base ./error.jl:33\n [2] top-level scope\n   @ ~/.julia/packages/KNITRO/S3mx8/deps/build.jl:48\n [3] include(fname::String)\n   @ Base.MainInclude ./client.jl:451\n [4] top-level scope\n   @ none:5\nin expression starting at /home/a/.julia/packages/KNITRO/S3mx8/deps/build.jl:45",
      "",
      "Stacktrace:",
      "  [1] pkgerror(msg::String)",
      "    @ Pkg.Types /opt/julia-1.7.0/share/julia/stdlib/v1.7/Pkg/src/Types.jl:68",
      "  [2] (::Pkg.Operations.var\"#62#67\"{Bool, Pkg.Types.Context, String, Pkg.Types.PackageSpec})()",
      "    @ Pkg.Operations /opt/julia-1.7.0/share/julia/stdlib/v1.7/Pkg/src/Operations.jl:962",
      "  [3] withenv(::Pkg.Operations.var\"#62#67\"{Bool, Pkg.Types.Context, String, Pkg.Types.PackageSpec}, ::Pair{String, String}, ::Vararg{Pair{String}})",
      "    @ Base ./env.jl:172",
      "  [4] (::Pkg.Operations.var\"#99#103\"{String, Bool, Bool, Bool, Pkg.Operations.var\"#62#67\"{Bool, Pkg.Types.Context, String, Pkg.Types.PackageSpec}, Pkg.Types.PackageSpec})()",
      "    @ Pkg.Operations /opt/julia-1.7.0/share/julia/stdlib/v1.7/Pkg/src/Operations.jl:1506",
      "  [5] with_temp_env(fn::Pkg.Operations.var\"#99#103\"{String, Bool, Bool, Bool, Pkg.Operations.var\"#62#67\"{Bool, Pkg.Types.Context, String, Pkg.Types.PackageSpec}, Pkg.Types.PackageSpec}, temp_env::String)",
      "    @ Pkg.Operations /opt/julia-1.7.0/share/julia/stdlib/v1.7/Pkg/src/Operations.jl:1390",
      "  [6] (::Pkg.Operations.var\"#98#102\"{Bool, Bool, Bool, Pkg.Operations.var\"#62#67\"{Bool, Pkg.Types.Context, String, Pkg.Types.PackageSpec}, Pkg.Types.Context, Pkg.Types.PackageSpec, String, Pkg.Types.Project, String})(tmp::String)",
      "    @ Pkg.Operations /opt/julia-1.7.0/share/julia/stdlib/v1.7/Pkg/src/Operations.jl:1469",
      "  [7] mktempdir(fn::Pkg.Operations.var\"#98#102\"{Bool, Bool, Bool, Pkg.Operations.var\"#62#67\"{Bool, Pkg.Types.Context, String, Pkg.Types.PackageSpec}, Pkg.Types.Context, Pkg.Types.PackageSpec, String, Pkg.Types.Project, String}, parent::String; prefix::String)",
      "    @ Base.Filesystem ./file.jl:750",
      "  [8] mktempdir(fn::Function, parent::String) (repeats 2 times)",
      "    @ Base.Filesystem ./file.jl:748",
      "  [9] sandbox(fn::Function, ctx::Pkg.Types.Context, target::Pkg.Types.PackageSpec, target_path::String, sandbox_path::String, sandbox_project_override::Pkg.Types.Project; force_latest_compatible_version::Bool, allow_earlier_backwards_compatible_versions::Bool, allow_reresolve::Bool)",
      "    @ Pkg.Operations /opt/julia-1.7.0/share/julia/stdlib/v1.7/Pkg/src/Operations.jl:1435",
      " [10] sandbox(fn::Function, ctx::Pkg.Types.Context, target::Pkg.Types.PackageSpec, target_path::String, sandbox_path::String, sandbox_project_override::Pkg.Types.Project)",
      "    @ Pkg.Operations /opt/julia-1.7.0/share/julia/stdlib/v1.7/Pkg/src/Operations.jl:1432",
      " [11] build_versions(ctx::Pkg.Types.Context, uuids::Set{Base.UUID}; verbose::Bool)",
      "    @ Pkg.Operations /opt/julia-1.7.0/share/julia/stdlib/v1.7/Pkg/src/Operations.jl:943",
      " [12] build_versions",
      "    @ /opt/julia-1.7.0/share/julia/stdlib/v1.7/Pkg/src/Operations.jl:870 [inlined]",
      " [13] develop(ctx::Pkg.Types.Context, pkgs::Vector{Pkg.Types.PackageSpec}, new_git::Set{Base.UUID}; preserve::Pkg.Types.PreserveLevel, platform::Base.BinaryPlatforms.Platform)",
      "    @ Pkg.Operations /opt/julia-1.7.0/share/julia/stdlib/v1.7/Pkg/src/Operations.jl:1204",
      " [14] develop(ctx::Pkg.Types.Context, pkgs::Vector{Pkg.Types.PackageSpec}; shared::Bool, preserve::Pkg.Types.PreserveLevel, platform::Base.BinaryPlatforms.Platform, kwargs::Base.Pairs{Symbol, IJulia.IJuliaStdio{Base.PipeEndpoint}, Tuple{Symbol}, NamedTuple{(:io,), Tuple{IJulia.IJuliaStdio{Base.PipeEndpoint}}}})",
      "    @ Pkg.API /opt/julia-1.7.0/share/julia/stdlib/v1.7/Pkg/src/API.jl:215",
      " [15] develop(pkgs::Vector{Pkg.Types.PackageSpec}; io::IJulia.IJuliaStdio{Base.PipeEndpoint}, kwargs::Base.Pairs{Symbol, Union{}, Tuple{}, NamedTuple{(), Tuple{}}})",
      "    @ Pkg.API /opt/julia-1.7.0/share/julia/stdlib/v1.7/Pkg/src/API.jl:149",
      " [16] develop(pkgs::Vector{Pkg.Types.PackageSpec})",
      "    @ Pkg.API /opt/julia-1.7.0/share/julia/stdlib/v1.7/Pkg/src/API.jl:144",
      " [17] #develop#14",
      "    @ /opt/julia-1.7.0/share/julia/stdlib/v1.7/Pkg/src/API.jl:141 [inlined]",
      " [18] develop(pkg::Pkg.Types.PackageSpec)",
      "    @ Pkg.API /opt/julia-1.7.0/share/julia/stdlib/v1.7/Pkg/src/API.jl:141",
      " [19] top-level scope",
      "    @ In[1]:6",
      " [20] eval",
      "    @ ./boot.jl:373 [inlined]",
      " [21] include_string(mapexpr::typeof(REPL.softscope), mod::Module, code::String, filename::String)",
      "    @ Base ./loading.jl:1196"
     ]
    }
   ],
   "source": [
    "using Pkg\n",
    "#Pkg.activate(\".\") # If running on  vse.syzygy.ca, you might need to uncomment this command\n",
    "try\n",
    "  using BLPDemand\n",
    "catch\n",
    "  Pkg.develop(PackageSpec(url=\"https://github.com/UBCECON567/BLPDemand.jl\"))\n",
    "  using BLPDemand\n",
    "end"
   ]
  },
  {
   "cell_type": "markdown",
   "metadata": {},
   "source": [
    "# Problem 1: load and explore the data\n",
    "\n",
    "The data from [@berry1995] is included in the `BLPDemand.jl`\n",
    "package."
   ]
  },
  {
   "cell_type": "code",
   "execution_count": 2,
   "metadata": {},
   "outputs": [
    {
     "ename": "LoadError",
     "evalue": "UndefVarError: data_blp1999 not defined",
     "output_type": "error",
     "traceback": [
      "UndefVarError: data_blp1999 not defined",
      "",
      "Stacktrace:",
      " [1] top-level scope",
      "   @ In[2]:1",
      " [2] eval",
      "   @ ./boot.jl:373 [inlined]",
      " [3] include_string(mapexpr::typeof(REPL.softscope), mod::Module, code::String, filename::String)",
      "   @ Base ./loading.jl:1196"
     ]
    }
   ],
   "source": [
    "df = data_blp1999()\n",
    "\n",
    "# Optionally, if you like being able to view all your data\n",
    "if (false)\n",
    "  using TableView\n",
    "  if (notusingjupyterorjuno) # this will throw an error. Delete it  or the else branch \n",
    "    using Blink\n",
    "    w = Blink.window()\n",
    "    body!(w, TableView.showtable(df));\n",
    "  else  # this may work on a local installation of jupyter, but it doesn't on vse.syzygy.ca ...\n",
    "    TableView.showtable(df);\n",
    "  end\n",
    "end"
   ]
  },
  {
   "cell_type": "markdown",
   "metadata": {},
   "source": [
    "Create some tables and figures to explore the data. You may want to\n",
    "reproduce table I and/or II from [@berry1995]."
   ]
  },
  {
   "cell_type": "code",
   "execution_count": 3,
   "metadata": {},
   "outputs": [],
   "source": [
    "# using Plots, DataFramesMeta, StatsPlots # (or whatever)"
   ]
  },
  {
   "cell_type": "markdown",
   "metadata": {},
   "source": [
    "# Problem 2: Logit Demand\n",
    "\n",
    "## Part I\n",
    "Reproduce table III of [@berry1995]. First you'll need to create\n",
    "instruments as in section 5.1 of the paper. The following code should\n",
    "do it."
   ]
  },
  {
   "cell_type": "code",
   "execution_count": 3,
   "metadata": {},
   "outputs": [
    {
     "name": "stderr",
     "output_type": "stream",
     "text": [
      "┌ Info: Precompiling DataFrames [a93c6f00-e57d-5684-b7b6-d8193f3e46c0]\n",
      "└ @ Base loading.jl:1423\n"
     ]
    },
    {
     "ename": "LoadError",
     "evalue": "UndefVarError: df not defined",
     "output_type": "error",
     "traceback": [
      "UndefVarError: df not defined",
      "",
      "Stacktrace:",
      " [1] top-level scope",
      "   @ In[3]:19",
      " [2] eval",
      "   @ ./boot.jl:373 [inlined]",
      " [3] include_string(mapexpr::typeof(REPL.softscope), mod::Module, code::String, filename::String)",
      "   @ Base ./loading.jl:1196"
     ]
    }
   ],
   "source": [
    "using DataFrames\n",
    "# Create instruments (see section 5.1)\n",
    "exog = [:const, :hpwt, :air, :mpd, :space, :mpg, :trend] # not sure that this is correct set of variables\n",
    "function makeinstruments(df, exog)\n",
    "  for z ∈ exog\n",
    "    zown = String(z).*\"_own\"\n",
    "    zother = String(z).*\"_other\"\n",
    "    own=by(df, [:year, :firm_id], z=>sum)\n",
    "    rename!(own, Symbol(z, \"_sum\") => Symbol(z, \"_own\"))\n",
    "    all=by(df, [:year], z=>sum)\n",
    "    rename!(all, Symbol(z, \"_sum\") => Symbol(z, \"_other\"))\n",
    "    df=join(df, own, on = [:year, :firm_id])\n",
    "    df=join(df,all, on = [:year])\n",
    "    df[!,Symbol(z,\"_other\")] .-= df[!,Symbol(z,\"_own\")]\n",
    "    df[!,Symbol(z,\"_own\")] .-= df[!,z]\n",
    "  end\n",
    "  return(df)\n",
    "end\n",
    "df=makeinstruments(df, exog);\n",
    "nothing"
   ]
  },
  {
   "cell_type": "markdown",
   "metadata": {},
   "source": [
    "For the regressions, you should modify the following."
   ]
  },
  {
   "cell_type": "code",
   "execution_count": 4,
   "metadata": {},
   "outputs": [
    {
     "name": "stderr",
     "output_type": "stream",
     "text": [
      "┌ Info: Precompiling FixedEffectModels [9d5cd8c9-2029-5cab-9928-427838db53e3]\n",
      "└ @ Base loading.jl:1423\n",
      "┌ Info: Precompiling RegressionTables [d519eb52-b820-54da-95a6-98e1306fdade]\n",
      "└ @ Base loading.jl:1423\n"
     ]
    },
    {
     "ename": "LoadError",
     "evalue": "UndefVarError: df not defined",
     "output_type": "error",
     "traceback": [
      "UndefVarError: df not defined",
      "",
      "Stacktrace:",
      " [1] top-level scope",
      "   @ In[4]:2",
      " [2] eval",
      "   @ ./boot.jl:373 [inlined]",
      " [3] include_string(mapexpr::typeof(REPL.softscope), mod::Module, code::String, filename::String)",
      "   @ Base ./loading.jl:1196"
     ]
    }
   ],
   "source": [
    "using FixedEffectModels, RegressionTables\n",
    "col2 = reg(df, @formula(logit_depvar ~ hpwt + (price ~ const_own + const_other + hpwt_own + hpwt_other)))\n",
    "regtable(col2)"
   ]
  },
  {
   "cell_type": "markdown",
   "metadata": {},
   "source": [
    "## Part II\n",
    "Calculate the elasticities of demand implied by the logit\n",
    "model. Report how many own price elasticities have absolute value less\n",
    "than one (inelastic). Why are inelastic demand estimates undesirable?\n",
    "\n",
    "For computing the elastiticities, you could adapt the code from the\n",
    "[BLPDemand.jl\n",
    "docs](https://ubcecon567.github.io/BLPDemand.jl/dev/simulation/#Calculating-Elasticities-1)"
   ]
  },
  {
   "cell_type": "code",
   "execution_count": null,
   "metadata": {},
   "outputs": [],
   "source": []
  },
  {
   "cell_type": "markdown",
   "metadata": {},
   "source": [
    "# Problem 3: Demand Side Estimation\n",
    "\n",
    "Estimate a random coefficients demand model. Report the parameter\n",
    "estimates and standard errors. Use the functions `estimateRCIVlogit`\n",
    "and `varianceRCIVlogit` from BLPDemand.jl. Note that the paper has\n",
    "price enter the model as $\\log(y-p)$, but we lack data on $y$, so just\n",
    "have price enter linearly or log-linearly with a random coefficient."
   ]
  },
  {
   "cell_type": "code",
   "execution_count": 6,
   "metadata": {},
   "outputs": [],
   "source": [
    "# some more data prep. You might want to change\n",
    "df[!,:loghpwt] = log.(df[!,:hpwt])\n",
    "df[!,:logmpg] = log.(df[!,:mpg])\n",
    "df[!,:logspace] = log.(df[!,:space])\n",
    "S = 20\n",
    "xvars = [:price, :const, :hpwt, :air, :mpd, :space]\n",
    "costvars = [:const, :loghpwt, :air, :logmpg, :logspace]\n",
    "dat = BLPData(df, :year, :firm_id, :share, xvars, costvars,\n",
    "              [:const], [:const], # we'll recreate instruments anyway\n",
    "              randn(length(xvars),S ,length(unique(df[!,:year]))) )\n",
    "dat = makeivblp(dat, includeexp=false)\n",
    "\n",
    "using LinearAlgebra: diag, I\n",
    "# now the estimation, you might want to try different options\n",
    "\n",
    "#out=estimateRCIVlogit(dat, method=:NFXP, verbose=true, W=I)\n",
    "#v = varianceRCIVlogit(out.β, out.σ, dat, W=I)\n",
    "#@show [out.β  out.σ]\n",
    "#@show sqrt.(diag(v.Σ))\n",
    "\n",
    "# or make a nicer table as in https://ubcecon567.github.io/BLPDemand.jl/dev/simulation/#Estimation-1"
   ]
  },
  {
   "cell_type": "markdown",
   "metadata": {},
   "source": [
    "# Problem 4: Demand and Supply\n",
    "\n",
    "Estimate the full BLP model. Use the `estimateBLP` and `varianceBLP`\n",
    "functions. See [the\n",
    "docs](https://ubcecon567.github.io/BLPDemand.jl/dev/simulation/#Estimation-1)\n",
    "for example usage. Note that the paper has price enter the model as\n",
    "$\\log(y-p)$, but we lack data on $y$, so just have price enter\n",
    "linearly or log-linearly with a random coefficient."
   ]
  },
  {
   "cell_type": "code",
   "execution_count": null,
   "metadata": {},
   "outputs": [],
   "source": []
  },
  {
   "cell_type": "markdown",
   "metadata": {},
   "source": [
    "# Problem 5: Elasticities\n",
    "\n",
    "Compute price elasticities (with standard errors) based on your estimates. You can adapt the\n",
    "code in [the\n",
    "docs](https://ubcecon567.github.io/BLPDemand.jl/dev/simulation/#Calculating-Elasticities-1)."
   ]
  },
  {
   "cell_type": "code",
   "execution_count": null,
   "metadata": {},
   "outputs": [],
   "source": []
  },
  {
   "cell_type": "markdown",
   "metadata": {},
   "source": [
    "# Problem 6: Merger Simulation\n",
    "\n",
    "This is a more challenging problem with less guidance. Consider it\n",
    "optional.\n",
    "\n",
    "Use your estimates to simulate a merger between firm 11 (Saab, I\n",
    "think) and firm 19 (GM, I think). You can do this by modifying the\n",
    "`simulateBLP` function. Report the effect of the merger on prices. Be\n",
    "sure to include standard errors."
   ]
  }
 ],
 "metadata": {
  "kernelspec": {
   "display_name": "Julia 1.7.0",
   "language": "julia",
   "name": "julia-1.7"
  },
  "language_info": {
   "file_extension": ".jl",
   "mimetype": "application/julia",
   "name": "julia",
   "version": "1.7.0"
  }
 },
 "nbformat": 4,
 "nbformat_minor": 2
}
